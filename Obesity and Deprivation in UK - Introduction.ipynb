{
    "cells": [
        {
            "cell_type": "markdown",
            "metadata": {
                "collapsed": true
            },
            "source": "# Obesity and deprivation - Comparison of least deprived and most deprived boroughs of London "
        },
        {
            "cell_type": "markdown",
            "metadata": {},
            "source": "## Introduction"
        },
        {
            "cell_type": "markdown",
            "metadata": {},
            "source": "According to Department of Health and Social Care (UK), 63% of adults in UK are overweight, and half of them can be classified as obese. Obesity is now being looked at as a serious health threat that not only affects the lives of individuals but can also lead to the burdening of the health services system NHS. Obesity has a direct relationship with several health conditions such as diabetes, cardiovascular diseases, cancer, respiratory diseases, and even mental health conditions such as depression. In the ongoing Covid-19 pandemic, it was found people who are obese who contract the virus are more likely to be hospitalised and may even die. More worryingly, it was found that 1 in 3 children in the UK are overweight.\n\nLifestyle contributes directly to obesity i.e. diet and level of physical activity has a direct impact on obesity. In this regard, the UK government has now initiated various steps to help people lead an active and healthy lifestyle. For example, there is a proposal to ban TV advertisements of high sugar/salt/processed fast foods till 9pm in the night so that children are not tempted. There are proposals to bring out new health apps that help people monitor their physical activity and diets. However, the success of such proposals largely depends on the individual\u2019s motivation, and these do not address some of the deeper root causes that is leading to obesity. \nFor example, it has been found that people in the most deprived areas of the country are more likely to suffer from obesity compared to people from less deprived areas. Deprived areas are likely to have higher crime rates, higher population density, poor living conditions, and poor access to job opportunities. Poor quality of life can lead to stress and anxiety, which in turn influences obesity. Also, people are more likely to buy processed and pre-packaged foods which have high sugar, saturated fat, and salt content are cheaper than fresh ingredients. The lack of job opportunities could also mean people have to hustle more than one job, leaving them no time to cook, or indeed pursue any form of relaxation activities.  \n\nKeeping this background in mind, the aim of this project is to compare three boroughs of London \u2013 Barking and Dagenham, Richmond upon Thames, and Kensington and Chelsea. Barking and Dagenham is considered as one of the most deprived boroughs, and Richmond and Kensington are the least deprived.  Barking and Dagenham and Richmond upon Thames are considered \u2018outer London\u2019 boroughs whilst the borough of Kensington and Chelsea is considered \u2018inner London\u2019. In fact, Kensington is one of the richest boroughs too. These neighbourhoods will be visualised on Foursquare so that environmental comparisons from various perspectives can be made. This is outlined in the next section.\n(Source: https://www.gov.uk/government/publications/tackling-obesity-government-strategy/tackling-obesity-empowering-adults-and-children-to-live-healthier-lives)"
        },
        {
            "cell_type": "markdown",
            "metadata": {},
            "source": "## Data for this project"
        },
        {
            "cell_type": "markdown",
            "metadata": {},
            "source": "The comparison of these boroughs will be two-fold \u2013 a) to compare and contrast the neighbourhoods using Foursquare, and b) to compare and contrast the people demographics\nThe raw data in the form of CSV files have been obtained from various government/non-government websites and are free to use. The following CSVs will be used for the comparisons \u2013 \n\n1)\tAdmin areas.csv (Source: https://www.doogal.co.uk/AdministrativeAreas.php)\nThis csv lists all the boroughs, their corresponding latitude and longitude, number of postcodes, and number of households within each borough. From this csv, the data regarding the boroughs this project is interested in can be extracted.\n\n2)\tRichmond upon Thames postcodes (Source: https://www.doogal.co.uk/AdministrativeAreas.php?district=E09000027)\n\n3)\tBarking and Dagenham postcodes (Source: https://www.doogal.co.uk/AdministrativeAreas.php?district=E09000002)\n\n4)\tKensington & Chelsea postcodes (Source: https://www.doogal.co.uk/AdministrativeAreas.php?district=E09000020)\nThe above three are simple CSVs which give the postcodes of all the wards within each borough, along with the latitude-longitude coordinates of each postcode.These will be useful for visualising the boroughs using Foursquare API. Typical exploration of these three boroughs will include determining the top 100 venues in each of them. By understanding the venue classifications, we can comment on the quality of the outdoor life of each borough offers \u2013 example, parks, gardens, restaurants, cultural venues etc. \n5)\tPublic-open-space-nature-ward_access-to-nature \u2013 Next, it is important to determine how many households in each ward of a borough have access to nature or open space. This CSV gives ward-wise information on the percentage of houses that have access to outdoor open space and nature. (Source: https://data.london.gov.uk/dataset/access-public-open-space-and-nature-ward). Access to outdoor green spaces such as parks and nature reserves is important for people\u2019s mental health and physical well-being.  Visualising this data on Foursquare will allow us to explore how many households have the flexibility to lead a healthy lifestyle \u2013 for example, access to a park would mean regular walks/jogging/cycling etc. The three neighbourhoods can be compared on this dimension to understand how deprivation caused by urban architecture also impacts lifestyles.  \n6)\tLondon Borough Profiles \u2013 this CSV gives exhaustive demographic details for each borough, including details such as population density, obesity, mental health, employment etc. (Source: https://data.gov.uk/dataset/248f5f04-23cf-4470-9216-0d0be9b877a8/london-borough-profiles-and-atlas). This data can be used to visualise comparative histograms of the three boroughs, and also to analyse regression plots to understand which factors affect obesity and quality of life. \n\nBy exploring and analysing the data in these raw CSVs, and visualising the results appropriately, we can make well-informed comparisons between the least deprived and most deprived boroughs of London. These insights can be used to make important suggestions to health officials, urban architects, and policy makers regarding tackling environmental root causes of obesity.\n"
        }
    ],
    "metadata": {
        "kernelspec": {
            "display_name": "Python 3.6",
            "language": "python",
            "name": "python3"
        },
        "language_info": {
            "codemirror_mode": {
                "name": "ipython",
                "version": 3
            },
            "file_extension": ".py",
            "mimetype": "text/x-python",
            "name": "python",
            "nbconvert_exporter": "python",
            "pygments_lexer": "ipython3",
            "version": "3.6.9"
        }
    },
    "nbformat": 4,
    "nbformat_minor": 1
}